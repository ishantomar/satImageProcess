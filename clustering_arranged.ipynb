{
 "cells": [
  {
   "cell_type": "code",
   "execution_count": 1,
   "metadata": {},
   "outputs": [
    {
     "name": "stderr",
     "output_type": "stream",
     "text": [
      "C:\\Users\\HP\\AppData\\Local\\Packages\\PythonSoftwareFoundation.Python.3.11_qbz5n2kfra8p0\\LocalCache\\local-packages\\Python311\\site-packages\\tslearn\\bases\\bases.py:15: UserWarning: h5py not installed, hdf5 features will not be supported.\n",
      "Install h5py to use hdf5 features: http://docs.h5py.org/\n",
      "  warn(h5py_msg)\n"
     ]
    }
   ],
   "source": [
    "import numpy as np\n",
    "import rasterio as rio\n",
    "from tslearn import clustering\n",
    "from pathlib import Path\n",
    "import matplotlib.pyplot as plt"
   ]
  },
  {
   "cell_type": "code",
   "execution_count": 2,
   "metadata": {},
   "outputs": [],
   "source": [
    "ndviFpath = r\"D:\\Images\\ndvi_corrected\\ndvi_corrected_stack.tif\"\n",
    "with rio.open(ndviFpath) as dst:\n",
    "    ndviImg = dst.read()\n",
    "    ndviMeta = dst.meta\n",
    "    ndviShape = ndviImg.shape\n"
   ]
  },
  {
   "cell_type": "code",
   "execution_count": 3,
   "metadata": {},
   "outputs": [],
   "source": [
    "urbwaterFpath = r\"D:\\Images\\ndvi_corrected\\urban_water_mask.tif\"\n",
    "nonRabiFpath = r\"D:\\Images\\clusterRabi\\nonRabi_c50.tif\""
   ]
  },
  {
   "cell_type": "code",
   "execution_count": 4,
   "metadata": {},
   "outputs": [],
   "source": [
    "with rio.open(urbwaterFpath) as dst:\n",
    "    urbwaterMask = dst.read(1)\n",
    "    urbWaterMeta = dst.meta\n",
    "with rio.open(nonRabiFpath) as dst:\n",
    "    nRabiImg = dst.read(1)\n",
    "    nRabiMeta = dst.meta\n"
   ]
  },
  {
   "cell_type": "code",
   "execution_count": 5,
   "metadata": {},
   "outputs": [],
   "source": [
    "ndviImg[:,urbwaterMask==1] = 0\n",
    "ndviImg[:,nRabiImg==1] = 0"
   ]
  },
  {
   "cell_type": "code",
   "execution_count": 6,
   "metadata": {},
   "outputs": [],
   "source": [
    "n_clusters=50"
   ]
  },
  {
   "cell_type": "code",
   "execution_count": 7,
   "metadata": {},
   "outputs": [],
   "source": [
    "# Remove 20230314 data\n",
    "img = ndviImg[23]"
   ]
  },
  {
   "cell_type": "code",
   "execution_count": 8,
   "metadata": {},
   "outputs": [],
   "source": [
    "plt.imshow(img)\n",
    "plt.show()"
   ]
  },
  {
   "cell_type": "code",
   "execution_count": 9,
   "metadata": {},
   "outputs": [],
   "source": [
    "flatImg = ndviImg.reshape(ndviShape[0],-1).T\n",
    "km_dst = clustering.TimeSeriesKMeans(n_clusters=n_clusters, metric=\"euclidean\", n_init=3, n_jobs=5, max_iter=5,max_iter_barycenter=3,).fit(flatImg)"
   ]
  },
  {
   "cell_type": "code",
   "execution_count": 21,
   "metadata": {},
   "outputs": [],
   "source": [
    "plt.clf()\n",
    "plt.plot(flatImg[76776])\n",
    "plt.show()"
   ]
  },
  {
   "cell_type": "code",
   "execution_count": 12,
   "metadata": {},
   "outputs": [],
   "source": [
    "flatCluster = km_dst.labels_\n",
    "out = flatCluster.reshape([1:])"
   ]
  },
  {
   "cell_type": "code",
   "execution_count": 16,
   "metadata": {},
   "outputs": [],
   "source": [
    "# outFname = input(r\"Output file name: \")\n",
    "outFpath = r\"D:\\Images\\ndvi_corrected\\cluster_50\\clusterOutput_1.tif\"\n",
    "# outFpath = Path(outfolder, outFname)\n",
    "with rio.open(outFpath, 'w', **urbWaterMeta) as dst:\n",
    "    dst.write(out,1)"
   ]
  },
  {
   "cell_type": "code",
   "execution_count": 14,
   "metadata": {},
   "outputs": [
    {
     "ename": "ValueError",
     "evalue": "'a' cannot be empty unless no samples are taken",
     "output_type": "error",
     "traceback": [
      "\u001b[1;31m---------------------------------------------------------------------------\u001b[0m",
      "\u001b[1;31mValueError\u001b[0m                                Traceback (most recent call last)",
      "Cell \u001b[1;32mIn[14], line 6\u001b[0m\n\u001b[0;32m      4\u001b[0m \u001b[39mwhile\u001b[39;00m i \u001b[39m<\u001b[39m\u001b[39m=\u001b[39m n_clusters:\n\u001b[0;32m      5\u001b[0m     clusterIdxs \u001b[39m=\u001b[39m np\u001b[39m.\u001b[39mwhere(flatCluster\u001b[39m==\u001b[39mi)[\u001b[39m0\u001b[39m]\n\u001b[1;32m----> 6\u001b[0m     randomIdxs \u001b[39m=\u001b[39m np\u001b[39m.\u001b[39;49mrandom\u001b[39m.\u001b[39;49mchoice(clusterIdxs, size\u001b[39m=\u001b[39;49m\u001b[39m100\u001b[39;49m)\n\u001b[0;32m      7\u001b[0m     \u001b[39mfor\u001b[39;00m j \u001b[39min\u001b[39;00m randomIdxs:\n\u001b[0;32m      8\u001b[0m         plt\u001b[39m.\u001b[39mplot(flatImg[j])\n",
      "File \u001b[1;32mmtrand.pyx:934\u001b[0m, in \u001b[0;36mnumpy.random.mtrand.RandomState.choice\u001b[1;34m()\u001b[0m\n",
      "\u001b[1;31mValueError\u001b[0m: 'a' cannot be empty unless no samples are taken"
     ]
    }
   ],
   "source": [
    "plt.ioff()\n",
    "outGraphFolder = r\"D:\\Images\\ndvi_corrected\\cluster_50\"\n",
    "i = 0\n",
    "while i <= n_clusters:\n",
    "    clusterIdxs = np.where(flatCluster==i)[0]\n",
    "    randomIdxs = np.random.choice(clusterIdxs, size=100)\n",
    "    for j in randomIdxs:\n",
    "        plt.plot(flatImg[j])\n",
    "    plotFpath = Path(outGraphFolder, f\"cluster_{i}.jpg\")\n",
    "    plt.savefig(plotFpath)\n",
    "    plt.clf()\n",
    "    i+= 1\n"
   ]
  },
  {
   "cell_type": "code",
   "execution_count": null,
   "metadata": {},
   "outputs": [],
   "source": []
  }
 ],
 "metadata": {
  "kernelspec": {
   "display_name": "Python 3",
   "language": "python",
   "name": "python3"
  },
  "language_info": {
   "codemirror_mode": {
    "name": "ipython",
    "version": 3
   },
   "file_extension": ".py",
   "mimetype": "text/x-python",
   "name": "python",
   "nbconvert_exporter": "python",
   "pygments_lexer": "ipython3",
   "version": "3.11.4"
  },
  "orig_nbformat": 4
 },
 "nbformat": 4,
 "nbformat_minor": 2
}
