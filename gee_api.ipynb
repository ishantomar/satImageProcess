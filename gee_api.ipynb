{
 "cells": [
  {
   "cell_type": "code",
   "execution_count": 69,
   "id": "2f8df51c",
   "metadata": {},
   "outputs": [],
   "source": [
    "pip install geemap"
   ]
  },
  {
   "cell_type": "code",
   "execution_count": 70,
   "id": "63ea8f55",
   "metadata": {},
   "outputs": [],
   "source": [
    "pip install geedim"
   ]
  },
  {
   "cell_type": "code",
   "execution_count": 2,
   "id": "8a7b3f82",
   "metadata": {},
   "outputs": [],
   "source": [
    "import ee\n",
    "import geemap\n",
    "\n",
    "import os"
   ]
  },
  {
   "cell_type": "code",
   "execution_count": 71,
   "id": "46d9f0c5",
   "metadata": {},
   "outputs": [],
   "source": [
    "# ee.Authenticate()"
   ]
  },
  {
   "cell_type": "code",
   "execution_count": 3,
   "id": "892ccc42",
   "metadata": {},
   "outputs": [],
   "source": [
    "ee.Initialize()"
   ]
  },
  {
   "cell_type": "code",
   "execution_count": 68,
   "id": "5b53b567",
   "metadata": {},
   "outputs": [],
   "source": [
    "Map=geemap.Map()\n",
    "Map"
   ]
  },
  {
   "cell_type": "code",
   "execution_count": 62,
   "id": "c8959c40",
   "metadata": {},
   "outputs": [
    {
     "name": "stdout",
     "output_type": "stream",
     "text": [
      "18\n"
     ]
    }
   ],
   "source": [
    "roi = ee.FeatureCollection('projects/ee-azistasaero222/assets/10x10_poly_1-polygon')\n",
    "start = ee.Date.fromYMD(2022, 11, 1)\n",
    "end = ee.Date.fromYMD(2023, 3, 15)\n",
    "\n",
    "images = ee.ImageCollection('COPERNICUS/S2') \\\n",
    "    .filterBounds(roi) \\\n",
    "    .filterDate(start, end) \\\n",
    "    .sort('CLOUDY_PIXEL_PERCENTAGE')\\\n",
    "    .filter(ee.Filter.lt('CLOUDY_PIXEL_PERCENTAGE', 1))\n",
    "   \n",
    "image = images.select(['B2', 'B3', 'B4'])\n",
    "number_of_images=image.size()\n",
    "print(number_of_images.getInfo())"
   ]
  },
  {
   "cell_type": "code",
   "execution_count": 63,
   "id": "087b7fcf",
   "metadata": {},
   "outputs": [
    {
     "name": "stdout",
     "output_type": "stream",
     "text": [
      "18\n"
     ]
    }
   ],
   "source": [
    "ndvi = images.map(lambda image: image.normalizedDifference(['B8', 'B4']))\n",
    "print((ndvi.size()).getInfo())"
   ]
  },
  {
   "cell_type": "code",
   "execution_count": 64,
   "id": "33f0f0eb",
   "metadata": {},
   "outputs": [
    {
     "name": "stdout",
     "output_type": "stream",
     "text": [
      "18\n"
     ]
    }
   ],
   "source": [
    "rndvi = images.map(lambda image: image.normalizedDifference(['B8', 'B5']))\n",
    "print((rndvi.size()).getInfo())"
   ]
  },
  {
   "cell_type": "code",
   "execution_count": 65,
   "id": "e361aa3b",
   "metadata": {},
   "outputs": [],
   "source": [
    "geometry = roi.geometry()"
   ]
  },
  {
   "cell_type": "code",
   "execution_count": 67,
   "id": "d7b96c1e",
   "metadata": {},
   "outputs": [],
   "source": [
    "out_dir = r'D:\\10007\\research\\gee_download\\downloaded\\rgb'\n",
    "geemap.download_ee_image_collection(image, out_dir, scale=10,region=geometry)\n"
   ]
  },
  {
   "cell_type": "code",
   "execution_count": null,
   "id": "d42b1ffa",
   "metadata": {},
   "outputs": [],
   "source": [
    "out_dir = r'D:\\10007\\research\\gee_download\\downloaded\\ndvi'\n",
    "geemap.download_ee_image_collection(ndvi, out_dir, scale=10,region=geometry)"
   ]
  },
  {
   "cell_type": "code",
   "execution_count": null,
   "id": "ecba0462",
   "metadata": {},
   "outputs": [],
   "source": [
    "out_dir = r'D:\\10007\\research\\gee_download\\downloaded\\rndvi'\n",
    "geemap.download_ee_image_collection(rndvi, out_dir, scale=10,region=geometry)"
   ]
  }
 ],
 "metadata": {
  "kernelspec": {
   "display_name": "Python 3 (ipykernel)",
   "language": "python",
   "name": "python3"
  },
  "language_info": {
   "codemirror_mode": {
    "name": "ipython",
    "version": 3
   },
   "file_extension": ".py",
   "mimetype": "text/x-python",
   "name": "python",
   "nbconvert_exporter": "python",
   "pygments_lexer": "ipython3",
   "version": "3.10.9"
  }
 },
 "nbformat": 4,
 "nbformat_minor": 5
}
