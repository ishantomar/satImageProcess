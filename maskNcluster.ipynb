{
 "cells": [
  {
   "cell_type": "code",
   "execution_count": 2,
   "metadata": {},
   "outputs": [],
   "source": [
    "import rasterio as rio\n",
    "import numpy as np\n",
    "import matplotlib.pyplot as plt\n",
    "from pathlib import Path\n",
    "import cv2 as cv"
   ]
  },
  {
   "cell_type": "code",
   "execution_count": 1,
   "metadata": {},
   "outputs": [],
   "source": [
    "ndviFpath = r\"D:\\Images\\ndvi_corrected\\ndvi_corrected_stack.tif\"\n",
    "urbwaterFpath = r\"D:\\Images\\ndvi_corrected\\urban_water_mask.tif\"\n",
    "nonRabiFpath = r\"D:\\Images\\clusterRabi\\nonRabi_c50.tif\""
   ]
  },
  {
   "cell_type": "code",
   "execution_count": 12,
   "metadata": {},
   "outputs": [],
   "source": [
    "with rio.open(ndviFpath) as dst:\n",
    "    ndviImg = dst.read()\n",
    "    ndviMeta = dst.meta\n",
    "with rio.open(urbwaterFpath) as dst:\n",
    "    urbwaterMask = dst.read(1)\n",
    "    urbWaterMeta = dst.meta\n",
    "with rio.open(nonRabiFpath) as dst:\n",
    "    nRabiImg = dst.read(1)\n",
    "    nRabiMeta = dst.meta"
   ]
  },
  {
   "cell_type": "code",
   "execution_count": 6,
   "metadata": {},
   "outputs": [
    {
     "data": {
      "text/plain": [
       "<contextlib.ExitStack at 0x1748826bbd0>"
      ]
     },
     "execution_count": 6,
     "metadata": {},
     "output_type": "execute_result"
    }
   ],
   "source": [
    "plt.ion()"
   ]
  },
  {
   "cell_type": "code",
   "execution_count": 15,
   "metadata": {},
   "outputs": [],
   "source": [
    "ndviImg[:,urbwaterMask==1] = 0"
   ]
  },
  {
   "cell_type": "code",
   "execution_count": 13,
   "metadata": {},
   "outputs": [],
   "source": [
    "ndviImg[:,nRabiImg==1] = 0"
   ]
  }
 ],
 "metadata": {
  "kernelspec": {
   "display_name": "Python 3",
   "language": "python",
   "name": "python3"
  },
  "language_info": {
   "codemirror_mode": {
    "name": "ipython",
    "version": 3
   },
   "file_extension": ".py",
   "mimetype": "text/x-python",
   "name": "python",
   "nbconvert_exporter": "python",
   "pygments_lexer": "ipython3",
   "version": "3.11.4"
  },
  "orig_nbformat": 4
 },
 "nbformat": 4,
 "nbformat_minor": 2
}
