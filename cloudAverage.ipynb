{
 "cells": [
  {
   "cell_type": "code",
   "execution_count": 24,
   "metadata": {},
   "outputs": [],
   "source": [
    "import rasterio as rio\n",
    "import numpy as np\n",
    "import matplotlib.pyplot as plt\n",
    "from pathlib import Path"
   ]
  },
  {
   "cell_type": "code",
   "execution_count": 33,
   "metadata": {},
   "outputs": [],
   "source": [
    "# Image a is n-1th image, image b is nth image, image c is n+1th image\n",
    "imgaFpath = input(r'Image file path of n-1th image: ')\n",
    "imgbFpath = input(r'Image file path of nth image: ')\n",
    "imgcFpath = input(r'Image file path of n+1th image')"
   ]
  },
  {
   "cell_type": "code",
   "execution_count": 34,
   "metadata": {},
   "outputs": [],
   "source": [
    "with rio.open(imgaFpath) as dst:\n",
    "    imga = dst.read()\n",
    "    ameta = dst.meta\n",
    "with rio.open(imgbFpath) as dst:\n",
    "    imgb = dst.read()\n",
    "    bmeta = dst.meta\n",
    "with rio.open(imgcFpath) as dst:\n",
    "    imgc = dst.read()\n",
    "    cmeta = dst.meta"
   ]
  },
  {
   "cell_type": "code",
   "execution_count": 36,
   "metadata": {},
   "outputs": [],
   "source": [
    "cmaskFpath = input(r\"Input cloud mask: \")\n",
    "with rio.open(cmaskFpath) as dst:\n",
    "    cmask = dst.read()\n",
    "    cmeta = dst.meta"
   ]
  },
  {
   "cell_type": "code",
   "execution_count": 37,
   "metadata": {},
   "outputs": [
    {
     "name": "stdout",
     "output_type": "stream",
     "text": [
      "D:\\Images\\Cloudy_Images\\20230324T050651_20230324T051534_T44QKF.tif\n",
      "D:\\Images\\Cloudy_Images\\20230329T050659_20230329T051912_T44QKF.tif\n",
      "D:\\Images\\rgbnir_new\\20230403T050651_20230403T051535_T44QKF.tif\n",
      "D:\\Images\\Cloudy_Images\\20230329T050659_20230329T051912_T44QKF_CM_3000.tif\n"
     ]
    }
   ],
   "source": [
    "print(imgaFpath)\n",
    "print(imgbFpath)\n",
    "print(imgcFpath)\n",
    "print(cmaskFpath)"
   ]
  },
  {
   "cell_type": "code",
   "execution_count": 38,
   "metadata": {},
   "outputs": [],
   "source": [
    "# imgd = np.zeros(imga.shape)\n",
    "imgd = (imga+imgc)/2"
   ]
  },
  {
   "cell_type": "code",
   "execution_count": 39,
   "metadata": {},
   "outputs": [],
   "source": [
    "# Seg average values in clouded image:\n",
    "cmask = cmask[0]\n",
    "imgb[0][cmask==1] = imgd[0][cmask==1]\n",
    "imgb[1][cmask==1] = imgd[1][cmask==1]\n",
    "imgb[2][cmask==1] = imgd[2][cmask==1]\n",
    "imgb[3][cmask==1] = imgd[3][cmask==1]"
   ]
  },
  {
   "cell_type": "code",
   "execution_count": 40,
   "metadata": {},
   "outputs": [],
   "source": [
    "outFolder = input(r\"Input folder name for cloud filled image: \")"
   ]
  },
  {
   "cell_type": "code",
   "execution_count": 41,
   "metadata": {},
   "outputs": [],
   "source": [
    "imgbName = Path(imgbFpath).stem\n",
    "outFname = f\"{imgbName}_cfilled.tif\"\n",
    "outFpath = Path(outFolder, outFname)"
   ]
  },
  {
   "cell_type": "code",
   "execution_count": 42,
   "metadata": {},
   "outputs": [],
   "source": [
    "with rio.open(outFpath, 'w', **bmeta) as dst:\n",
    "    dst.write(imgb)"
   ]
  },
  {
   "cell_type": "code",
   "execution_count": 43,
   "metadata": {},
   "outputs": [
    {
     "ename": "NameError",
     "evalue": "name 'meta' is not defined",
     "output_type": "error",
     "traceback": [
      "\u001b[1;31m---------------------------------------------------------------------------\u001b[0m",
      "\u001b[1;31mNameError\u001b[0m                                 Traceback (most recent call last)",
      "Cell \u001b[1;32mIn[43], line 1\u001b[0m\n\u001b[1;32m----> 1\u001b[0m meta\n",
      "\u001b[1;31mNameError\u001b[0m: name 'meta' is not defined"
     ]
    }
   ],
   "source": [
    "meta"
   ]
  },
  {
   "cell_type": "code",
   "execution_count": 44,
   "metadata": {},
   "outputs": [
    {
     "data": {
      "text/plain": [
       "{'driver': 'GTiff',\n",
       " 'dtype': 'uint16',\n",
       " 'nodata': 0.0,\n",
       " 'width': 1080,\n",
       " 'height': 1073,\n",
       " 'count': 4,\n",
       " 'crs': CRS.from_epsg(32644),\n",
       " 'transform': Affine(10.0, 0.0, 278160.0,\n",
       "        0.0, -10.0, 2031040.0)}"
      ]
     },
     "execution_count": 44,
     "metadata": {},
     "output_type": "execute_result"
    }
   ],
   "source": [
    "ameta"
   ]
  },
  {
   "cell_type": "code",
   "execution_count": null,
   "metadata": {},
   "outputs": [],
   "source": []
  }
 ],
 "metadata": {
  "kernelspec": {
   "display_name": "Python 3",
   "language": "python",
   "name": "python3"
  },
  "language_info": {
   "codemirror_mode": {
    "name": "ipython",
    "version": 3
   },
   "file_extension": ".py",
   "mimetype": "text/x-python",
   "name": "python",
   "nbconvert_exporter": "python",
   "pygments_lexer": "ipython3",
   "version": "3.11.4"
  },
  "orig_nbformat": 4
 },
 "nbformat": 4,
 "nbformat_minor": 2
}
