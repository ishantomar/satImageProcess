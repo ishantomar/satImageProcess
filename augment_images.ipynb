{
 "cells": [
  {
   "cell_type": "code",
   "execution_count": 1,
   "metadata": {},
   "outputs": [],
   "source": [
    "import os\n",
    "import cv2\n",
    "import shutil\n",
    "import numpy as np\n",
    "import rasterio\n",
    "\n",
    "# List all files\n",
    "img_dir = \"data/images\"\n",
    "mask_dir = \"data/masks\"\n",
    "\n",
    "img_files = os.listdir(img_dir)\n",
    "mask_files = os.listdir(mask_dir)\n",
    "\n",
    "os.makedirs(img_dir + \"/augmented\", exist_ok=True)\n",
    "\n",
    "# Process each file\n",
    "for file in img_files:\n",
    "    # Check if the file is a TIFF image\n",
    "    if file.endswith(\".tif\"):\n",
    "        # Load the image\n",
    "        image_path = os.path.join(img_dir, file)\n",
    "        image = cv2.imread(image_path)\n",
    "\n",
    "        # Adjust brightness and contrast\n",
    "        alpha = 1.2  # Controls brightness\n",
    "        beta = 20    # Controls contrast\n",
    "        adjusted_image = cv2.convertScaleAbs(image, alpha=alpha, beta=beta)\n",
    "\n",
    "        # Convert to grayscale\n",
    "        gray_image = cv2.cvtColor(adjusted_image, cv2.COLOR_BGR2GRAY)\n",
    "\n",
    "        # Increase sharpness\n",
    "        sharpened_image = cv2.filter2D(gray_image, -1, np.array([[-1, -1, -1], [-1, 9, -1], [-1, -1, -1]]))\n",
    "\n",
    "        # Create a 3-band RGB image from the grayscale image\n",
    "        three_band_gray = cv2.cvtColor(sharpened_image, cv2.COLOR_GRAY2BGR)\n",
    "\n",
    "        # Save the augmented image with \"-aug\" extension\n",
    "        augmented_image_path = os.path.join(img_dir, 'augmented', file[:-4] + \"-aug.tif\")\n",
    "        cv2.imwrite(augmented_image_path, adjusted_image)\n",
    "\n",
    "        # Save the gray augmented image with \"-aug-gray\" extension\n",
    "        gray_augmented_image_path = os.path.join(img_dir, 'augmented', file[:-4] + \"-aug-gray.tif\")\n",
    "        cv2.imwrite(gray_augmented_image_path, three_band_gray)\n",
    "\n",
    "        # Duplicate the mask file for the augmented images\n",
    "        mask_path = os.path.join(mask_dir, file)\n",
    "        augmented_mask_path = os.path.join(mask_dir, file[:-4] + \"-aug.tif\")\n",
    "        shutil.copy(mask_path, augmented_mask_path)\n",
    "\n",
    "        # Duplicate the mask file for the gray augmented images\n",
    "        mask_path = os.path.join(mask_dir, file)\n",
    "        augmented_mask_path = os.path.join(mask_dir, file[:-4] + \"-aug-gray.tif\")\n",
    "        shutil.copy(mask_path, augmented_mask_path)\n",
    "\n",
    "        # Copy the metadata from the original image to the augmented image\n",
    "        with rasterio.open(image_path) as src:\n",
    "            metadata = src.profile\n",
    "            metadata.update(count=3, dtype='uint8')\n",
    "\n",
    "            with rasterio.open(augmented_image_path, 'w', **metadata) as dst:\n",
    "                dst.write(adjusted_image.transpose(2, 0, 1))\n",
    "\n",
    "        # Copy the metadata from the original image to the gray image\n",
    "        with rasterio.open(image_path) as src:\n",
    "            metadata = src.profile\n",
    "            metadata.update(count=3, dtype='uint8')\n",
    "\n",
    "            with rasterio.open(gray_augmented_image_path, 'w', **metadata) as dst:\n",
    "                dst.write(three_band_gray.transpose(2, 0, 1))\n"
   ]
  }
 ],
 "metadata": {
  "kernelspec": {
   "display_name": "seg_pytorch",
   "language": "python",
   "name": "python3"
  },
  "language_info": {
   "codemirror_mode": {
    "name": "ipython",
    "version": 3
   },
   "file_extension": ".py",
   "mimetype": "text/x-python",
   "name": "python",
   "nbconvert_exporter": "python",
   "pygments_lexer": "ipython3",
   "version": "3.9.16"
  },
  "orig_nbformat": 4,
  "vscode": {
   "interpreter": {
    "hash": "9341a174f0c370c3f3e33a44223f2f194c8880f65dc85fed744169ee67ac2ae4"
   }
  }
 },
 "nbformat": 4,
 "nbformat_minor": 2
}
