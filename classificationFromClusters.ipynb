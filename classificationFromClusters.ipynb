{
 "cells": [
  {
   "cell_type": "code",
   "execution_count": 10,
   "metadata": {},
   "outputs": [],
   "source": [
    "import numpy as np\n",
    "import rasterio as rio\n",
    "from tslearn import clustering\n",
    "from pathlib import Path\n",
    "import matplotlib.pyplot as plt\n",
    "import matplotlib.dates as mdates\n",
    "from datetime import datetime\n"
   ]
  },
  {
   "cell_type": "code",
   "execution_count": 11,
   "metadata": {},
   "outputs": [],
   "source": [
    "clusterFpath = r\"D:\\Images\\ndvi_corrected\\cluster_50_Output2.tif\""
   ]
  },
  {
   "cell_type": "code",
   "execution_count": 12,
   "metadata": {},
   "outputs": [],
   "source": [
    "class1 = [1,14,34,37,38,15,25,44,81]\n",
    "class2 = [23,43,6,30]\n",
    "class3 = [18,42,12,4,21]\n",
    "class4 = [24,45,46,7]\n",
    "class5 = [9,19]\n",
    "#class6 = [5,32,33] Yellow class\n",
    "class6 = [39]\n",
    "class7 = [35]"
   ]
  },
  {
   "cell_type": "code",
   "execution_count": 13,
   "metadata": {},
   "outputs": [],
   "source": [
    "with rio.open(clusterFpath) as dst:\n",
    "    clusterImg = dst.read(1)\n",
    "    clusterMeta = dst.meta"
   ]
  },
  {
   "cell_type": "code",
   "execution_count": 14,
   "metadata": {},
   "outputs": [],
   "source": [
    "classImg = np.zeros(clusterImg.shape)"
   ]
  },
  {
   "cell_type": "code",
   "execution_count": 15,
   "metadata": {},
   "outputs": [],
   "source": [
    "# Assign Clusters\n",
    "for i in class1:\n",
    "    classImg[clusterImg==i] = 1\n",
    "for i in class2:\n",
    "    classImg[clusterImg==i] = 2\n",
    "for i in class3:\n",
    "    classImg[clusterImg==i] = 3\n",
    "for i in class4:\n",
    "    classImg[clusterImg==i] = 4\n",
    "for i in class5:\n",
    "    classImg[clusterImg==i] = 5\n",
    "for i in class6:\n",
    "    classImg[clusterImg==i] = 6\n",
    "for i in class7:\n",
    "    classImg[clusterImg==i] = 7"
   ]
  },
  {
   "cell_type": "code",
   "execution_count": 16,
   "metadata": {},
   "outputs": [],
   "source": [
    "clusterMeta.update(nodata=0)"
   ]
  },
  {
   "cell_type": "code",
   "execution_count": 17,
   "metadata": {},
   "outputs": [],
   "source": [
    "classFpath = r\"D:\\Images\\ndvi_corrected\\classifiedOutput2.tif\""
   ]
  },
  {
   "cell_type": "code",
   "execution_count": 18,
   "metadata": {},
   "outputs": [
    {
     "data": {
      "text/plain": [
       "array([0., 1., 2., 3., 4., 5., 6., 7.])"
      ]
     },
     "execution_count": 18,
     "metadata": {},
     "output_type": "execute_result"
    }
   ],
   "source": [
    "np.unique(classImg)"
   ]
  },
  {
   "cell_type": "code",
   "execution_count": 9,
   "metadata": {},
   "outputs": [],
   "source": [
    "with rio.open(classFpath, \"w\", **clusterMeta) as dst:\n",
    "    dst.write(classImg,1)"
   ]
  },
  {
   "cell_type": "code",
   "execution_count": null,
   "metadata": {},
   "outputs": [],
   "source": []
  }
 ],
 "metadata": {
  "kernelspec": {
   "display_name": "Python 3",
   "language": "python",
   "name": "python3"
  },
  "language_info": {
   "codemirror_mode": {
    "name": "ipython",
    "version": 3
   },
   "file_extension": ".py",
   "mimetype": "text/x-python",
   "name": "python",
   "nbconvert_exporter": "python",
   "pygments_lexer": "ipython3",
   "version": "3.11.4"
  },
  "orig_nbformat": 4
 },
 "nbformat": 4,
 "nbformat_minor": 2
}
