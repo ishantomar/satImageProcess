{
 "cells": [
  {
   "cell_type": "code",
   "execution_count": 1,
   "metadata": {},
   "outputs": [],
   "source": [
    "import cv2 as cv\n",
    "import rasterio as rio\n",
    "import numpy as np\n",
    "import matplotlib.pyplot as plt\n",
    "from pathlib import Path"
   ]
  },
  {
   "cell_type": "code",
   "execution_count": 2,
   "metadata": {},
   "outputs": [
    {
     "ename": "NameError",
     "evalue": "name 'maskImg' is not defined",
     "output_type": "error",
     "traceback": [
      "\u001b[1;31m---------------------------------------------------------------------------\u001b[0m",
      "\u001b[1;31mNameError\u001b[0m                                 Traceback (most recent call last)",
      "Cell \u001b[1;32mIn[2], line 7\u001b[0m\n\u001b[0;32m      5\u001b[0m openMaskPath \u001b[39m=\u001b[39m \u001b[39minput\u001b[39m(\u001b[39mr\u001b[39m\u001b[39m\"\u001b[39m\u001b[39mOpen mask file: \u001b[39m\u001b[39m\"\u001b[39m)\n\u001b[0;32m      6\u001b[0m \u001b[39mwith\u001b[39;00m rio\u001b[39m.\u001b[39mopen(openMaskPath) \u001b[39mas\u001b[39;00m dst:\n\u001b[1;32m----> 7\u001b[0m     maskImg \u001b[39m-\u001b[39m dst\u001b[39m.\u001b[39mread()\n\u001b[0;32m      8\u001b[0m     maskMeta \u001b[39m=\u001b[39m dst\u001b[39m.\u001b[39mmeta\n",
      "\u001b[1;31mNameError\u001b[0m: name 'maskImg' is not defined"
     ]
    }
   ],
   "source": [
    "openFpath = input(r\"Open rbnir image file: \")\n",
    "with rio.open(openFpath) as dst:\n",
    "    satImg = dst.read()\n",
    "    satMeta = dst.meta"
   ]
  },
  {
   "cell_type": "code",
   "execution_count": 13,
   "metadata": {},
   "outputs": [],
   "source": [
    "openMaskPath = input(r\"Open mask file: \")\n",
    "with rio.open(openMaskPath) as dst:\n",
    "    maskImg = dst.read()\n",
    "    maskMeta = dst.meta"
   ]
  },
  {
   "cell_type": "code",
   "execution_count": 5,
   "metadata": {},
   "outputs": [
    {
     "name": "stdout",
     "output_type": "stream",
     "text": [
      "(4, 1073, 1080)\n",
      "(1, 1073, 1080)\n"
     ]
    }
   ],
   "source": [
    "print(satImg.shape)\n",
    "print(maskImg.shape)"
   ]
  },
  {
   "cell_type": "code",
   "execution_count": 7,
   "metadata": {},
   "outputs": [
    {
     "data": {
      "text/plain": [
       "(1073, 1080, 4)"
      ]
     },
     "execution_count": 7,
     "metadata": {},
     "output_type": "execute_result"
    }
   ],
   "source": []
  },
  {
   "cell_type": "code",
   "execution_count": 14,
   "metadata": {},
   "outputs": [],
   "source": [
    "maskImg = maskImg[0,:,:]"
   ]
  },
  {
   "cell_type": "code",
   "execution_count": 15,
   "metadata": {},
   "outputs": [
    {
     "data": {
      "text/plain": [
       "(1073, 1080)"
      ]
     },
     "execution_count": 15,
     "metadata": {},
     "output_type": "execute_result"
    }
   ],
   "source": [
    "maskImg.shape"
   ]
  },
  {
   "cell_type": "code",
   "execution_count": 17,
   "metadata": {},
   "outputs": [
    {
     "data": {
      "text/plain": [
       "(1073, 1080, 4)"
      ]
     },
     "execution_count": 17,
     "metadata": {},
     "output_type": "execute_result"
    }
   ],
   "source": [
    "imgShp = satImg.shape\n",
    "# zeroImg = np.zeros((imgShp[1], imgShp[2], imgShp[0]))\n",
    "# zeroImg.shape\n",
    "# zeroImg = satImg\n",
    "# zeroImg.shape\n",
    "zeroImg = np.dstack((satImg[0], satImg[1], satImg[2], satImg[3]))\n",
    "zeroImg.shape"
   ]
  },
  {
   "cell_type": "code",
   "execution_count": 30,
   "metadata": {},
   "outputs": [],
   "source": [
    "zeroImg[:,:,0]*= maskImg\n",
    "zeroImg[:,:,1]*= maskImg\n",
    "zeroImg[:,:,2]*= maskImg\n",
    "zeroImg[:,:,3]*= maskImg"
   ]
  },
  {
   "cell_type": "code",
   "execution_count": 34,
   "metadata": {},
   "outputs": [],
   "source": [
    "satZ = zeroImg.reshape((-1,4))\n",
    "satZ = np.float32(satZ)"
   ]
  },
  {
   "cell_type": "code",
   "execution_count": 46,
   "metadata": {},
   "outputs": [],
   "source": [
    "initcriteria = (cv.TERM_CRITERIA_EPS + cv.TERM_CRITERIA_MAX_ITER, 10, 1.0)\n",
    "deepCriteria = (cv.TERM_CRITERIA_EPS + 3, 10,1.0)"
   ]
  },
  {
   "cell_type": "code",
   "execution_count": 37,
   "metadata": {},
   "outputs": [],
   "source": [
    "k = 2\n",
    "see = []\n",
    "labels = []\n",
    "knos = []\n",
    "maxCluster = 30\n",
    "while k <= maxCluster:\n",
    "    ret,label,_=cv.kmeans(satZ,k,None,initcriteria,10,cv.KMEANS_RANDOM_CENTERS)\n",
    "    see.append(ret)\n",
    "    knos.append(k)\n",
    "    k+=1"
   ]
  },
  {
   "cell_type": "code",
   "execution_count": 43,
   "metadata": {},
   "outputs": [],
   "source": [
    "plt.plot(knos, see)\n",
    "plt.show()"
   ]
  },
  {
   "cell_type": "code",
   "execution_count": 54,
   "metadata": {},
   "outputs": [],
   "source": [
    "# Deep clustering\n",
    "k = 10\n",
    "_,label,_=cv.kmeans(satZ,k,None,deepCriteria,10,cv.KMEANS_RANDOM_CENTERS)\n"
   ]
  },
  {
   "cell_type": "code",
   "execution_count": 55,
   "metadata": {},
   "outputs": [],
   "source": [
    "label += 1\n",
    "labelImg = label.reshape(maskImg.shape)"
   ]
  },
  {
   "cell_type": "code",
   "execution_count": 56,
   "metadata": {},
   "outputs": [
    {
     "data": {
      "text/plain": [
       "(1073, 1080)"
      ]
     },
     "execution_count": 56,
     "metadata": {},
     "output_type": "execute_result"
    }
   ],
   "source": [
    "labelImg.shape"
   ]
  },
  {
   "cell_type": "code",
   "execution_count": 57,
   "metadata": {},
   "outputs": [
    {
     "data": {
      "text/plain": [
       "<matplotlib.image.AxesImage at 0x210664d5dd0>"
      ]
     },
     "execution_count": 57,
     "metadata": {},
     "output_type": "execute_result"
    }
   ],
   "source": [
    "plt.imshow(labelImg)"
   ]
  },
  {
   "cell_type": "code",
   "execution_count": 58,
   "metadata": {},
   "outputs": [],
   "source": [
    "plt.show()"
   ]
  },
  {
   "cell_type": "code",
   "execution_count": 25,
   "metadata": {},
   "outputs": [
    {
     "data": {
      "text/plain": [
       "array([ 0,  1,  2,  3,  4,  5,  6,  7,  8,  9, 10, 11, 12, 13, 14, 15, 16,\n",
       "       17, 18, 19, 20, 21, 22, 23, 24, 25, 26, 27, 28, 29], dtype=int32)"
      ]
     },
     "execution_count": 25,
     "metadata": {},
     "output_type": "execute_result"
    }
   ],
   "source": [
    "np.unique(label)"
   ]
  },
  {
   "cell_type": "code",
   "execution_count": 59,
   "metadata": {},
   "outputs": [],
   "source": [
    "labelImg = np.uint16(labelImg)"
   ]
  },
  {
   "cell_type": "code",
   "execution_count": 60,
   "metadata": {},
   "outputs": [],
   "source": [
    "destFolder = input(r\"Destination folder of label file: \")\n",
    "destFpath = Path(destFolder, \"cluster_urban_kmeans_10.tif\")"
   ]
  },
  {
   "cell_type": "code",
   "execution_count": 61,
   "metadata": {},
   "outputs": [],
   "source": [
    "satMeta.update(count = 1)"
   ]
  },
  {
   "cell_type": "code",
   "execution_count": 63,
   "metadata": {},
   "outputs": [],
   "source": [
    "with rio.open(destFpath, 'w', **satMeta) as dst:\n",
    "    dst.write(labelImg, 1)"
   ]
  },
  {
   "cell_type": "code",
   "execution_count": 64,
   "metadata": {},
   "outputs": [],
   "source": [
    "canalImg = labelImg\n",
    "canalImg[canalImg!=10] = 0"
   ]
  },
  {
   "cell_type": "code",
   "execution_count": 65,
   "metadata": {},
   "outputs": [],
   "source": [
    "destFpath = Path(destFolder, \"canalImg.tif\")"
   ]
  },
  {
   "cell_type": "code",
   "execution_count": 66,
   "metadata": {},
   "outputs": [],
   "source": [
    "with rio.open(destFpath, 'w', **satMeta) as dst:\n",
    "    dst.write(canalImg, 1)"
   ]
  },
  {
   "cell_type": "code",
   "execution_count": null,
   "metadata": {},
   "outputs": [],
   "source": []
  }
 ],
 "metadata": {
  "kernelspec": {
   "display_name": "Python 3",
   "language": "python",
   "name": "python3"
  },
  "language_info": {
   "codemirror_mode": {
    "name": "ipython",
    "version": 3
   },
   "file_extension": ".py",
   "mimetype": "text/x-python",
   "name": "python",
   "nbconvert_exporter": "python",
   "pygments_lexer": "ipython3",
   "version": "3.11.4"
  },
  "orig_nbformat": 4
 },
 "nbformat": 4,
 "nbformat_minor": 2
}
